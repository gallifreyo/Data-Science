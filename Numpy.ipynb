{
 "cells": [
  {
   "cell_type": "code",
   "execution_count": 1,
   "metadata": {},
   "outputs": [],
   "source": [
    "import numpy as np"
   ]
  },
  {
   "cell_type": "code",
   "execution_count": 2,
   "metadata": {},
   "outputs": [
    {
     "data": {
      "text/plain": [
       "4.0"
      ]
     },
     "execution_count": 2,
     "metadata": {},
     "output_type": "execute_result"
    }
   ],
   "source": [
    "# EXERCICIO 1\n",
    "\n",
    "\n",
    "def media(n):\n",
    "    soma = 0\n",
    "    for pos in range(len(n)):\n",
    "        soma += n[pos]\n",
    "    res = soma/len(n)\n",
    "    return res\n",
    "\n",
    "        \n",
    "x = np.array([1,2,3,4,5,6,7])\n",
    "media(x)"
   ]
  },
  {
   "cell_type": "code",
   "execution_count": 3,
   "metadata": {},
   "outputs": [
    {
     "data": {
      "text/plain": [
       "array([[[3, 3, 3, 3, 3],\n",
       "        [3, 3, 3, 3, 3]],\n",
       "\n",
       "       [[3, 3, 3, 3, 3],\n",
       "        [3, 3, 3, 3, 3]],\n",
       "\n",
       "       [[3, 3, 3, 3, 3],\n",
       "        [3, 3, 3, 3, 3]]])"
      ]
     },
     "execution_count": 3,
     "metadata": {},
     "output_type": "execute_result"
    }
   ],
   "source": [
    "# EXERCICIO 2: criar um array de inteiros de 32 bits \n",
    "#de formato (3,2,5), onde todos os elementos são iguais a 3.\n",
    "\n",
    "\n",
    "a = np.zeros((30), dtype = 'int32')\n",
    "\n",
    "for i in range(len(a)):\n",
    "    a[i] = 3\n",
    "    \n",
    "\n",
    "a.shape=(3,2,5)\n",
    "a\n"
   ]
  },
  {
   "cell_type": "code",
   "execution_count": 4,
   "metadata": {},
   "outputs": [
    {
     "name": "stdout",
     "output_type": "stream",
     "text": [
      "(array([10, 20, 30, 40]), array([  91.,  391.,  891., 1591.]))\n"
     ]
    }
   ],
   "source": [
    "# EXERCICIO 3\n",
    "def s(a,b,n):\n",
    "    \n",
    "    \n",
    "    x=np.arange(a,b,n)\n",
    "    \n",
    "    y=np.zeros(len(x))\n",
    "    \n",
    "    for i in range(len(x)):\n",
    "        \n",
    "        y[i] = (x[i]**2)-9\n",
    "        \n",
    "    return x,y\n",
    "\n",
    "\n",
    "print(s(10, 50, 10))\n",
    "\n",
    "\n"
   ]
  },
  {
   "cell_type": "code",
   "execution_count": 5,
   "metadata": {},
   "outputs": [
    {
     "name": "stdout",
     "output_type": "stream",
     "text": [
      "[[ 0.          0.66666667  1.33333333  2.        ]\n",
      " [ 2.66666667  3.33333333  4.          4.66666667]\n",
      " [ 5.33333333  6.          6.66666667  7.33333333]\n",
      " [ 8.          8.66666667  9.33333333 10.        ]]\n"
     ]
    }
   ],
   "source": [
    "# EXERCICIO 4\n",
    "def gera_matriz(a,b,n,m):\n",
    "    \n",
    "    if m*m == n:\n",
    "        x = np.linspace(a,b,n)\n",
    "        y =  np.array(x)\n",
    "        y.shape=(m,m)\n",
    "    \n",
    "        return y\n",
    "    else:\n",
    "        print(\"Não é possível construir\")\n",
    "\n",
    "print(gera_matriz(0, 10, 16, 4))\n",
    "\n",
    "\n"
   ]
  },
  {
   "cell_type": "code",
   "execution_count": 6,
   "metadata": {},
   "outputs": [
    {
     "name": "stdout",
     "output_type": "stream",
     "text": [
      "[1 2]\n",
      "[1 3 5]\n"
     ]
    }
   ],
   "source": [
    "# EXERCICIO 5\n",
    "\n",
    "def linha(m,i):\n",
    "    \n",
    "    for j in range(len(m)-1):\n",
    "        if len(m[j]) != len(m[j-1]):\n",
    "            print('Não matriz')\n",
    "            break\n",
    "    \n",
    "    else:\n",
    "        x = m[:,0]\n",
    "        \n",
    "        if i >= len(x): #tamanho da linha\n",
    "            print('Linha não existe')\n",
    "        else:\n",
    "            x = m[i,:]\n",
    "            print(x)\n",
    "            \n",
    "def coluna(m,i):\n",
    "    \n",
    "    for j in range(len(m)-1):\n",
    "        if len(m[j]) != len(m[j-1]):\n",
    "            print('Não matriz')\n",
    "            break\n",
    "    \n",
    "    else:\n",
    "        x = m[0,:]\n",
    "\n",
    "        if i >= len(x): #tamanho da coluna\n",
    "            print('Coluna não existe')\n",
    "        else:\n",
    "            x = m[:,i]\n",
    "            print(x)\n",
    "        \n",
    "m = np.array([[1,2], [3,4],[5,6]])\n",
    "linha(m,0)\n",
    "coluna(m,0)\n",
    "\n",
    "\n",
    "\n",
    "\n",
    "\n",
    "\n",
    "\n",
    "\n",
    "\n",
    "\n"
   ]
  },
  {
   "cell_type": "code",
   "execution_count": 7,
   "metadata": {},
   "outputs": [
    {
     "data": {
      "text/plain": [
       "<Figure size 1000x500 with 1 Axes>"
      ]
     },
     "metadata": {},
     "output_type": "display_data"
    }
   ],
   "source": [
    "# EXERCICIO 6\n",
    "\n",
    "import matplotlib.pyplot as plt\n",
    "\n",
    "fig, ax = plt.subplots(figsize = (10,5))\n",
    "\n",
    "x = np.array([1,2,3,4,5,6])\n",
    "\n",
    "def f(x):\n",
    "    \n",
    "    # f(x) = xˆ3 - xˆ2 + 1\n",
    "    \n",
    "    return ((x**3) - (x**2)) + 1\n",
    "\n",
    "\n",
    "ax.plot(x,f(x))\n",
    "\n",
    "\n",
    "\n",
    "plt.show()\n",
    "\n",
    "\n"
   ]
  }
 ],
 "metadata": {
  "kernelspec": {
   "display_name": "Python 3",
   "language": "python",
   "name": "python3"
  },
  "language_info": {
   "codemirror_mode": {
    "name": "ipython",
    "version": 3
   },
   "file_extension": ".py",
   "mimetype": "text/x-python",
   "name": "python",
   "nbconvert_exporter": "python",
   "pygments_lexer": "ipython3",
   "version": "3.7.4"
  }
 },
 "nbformat": 4,
 "nbformat_minor": 2
}
